{
 "cells": [
  {
   "cell_type": "code",
   "execution_count": 6,
   "metadata": {},
   "outputs": [],
   "source": [
    "import music21 as m21\n",
    "import os\n",
    "import shutil\n",
    "# m21.configure.run()\n",
    "m21.environment.set('musescoreDirectPNGPath', 'C:/Program Files/MuseScore 3/bin/MuseScore3.exe')"
   ]
  },
  {
   "cell_type": "code",
   "execution_count": 18,
   "metadata": {},
   "outputs": [
    {
     "ename": "AccidentalException",
     "evalue": " e is not a supported accidental type",
     "output_type": "error",
     "traceback": [
      "\u001b[1;31m---------------------------------------------------------------------------\u001b[0m",
      "\u001b[1;31mAccidentalException\u001b[0m                       Traceback (most recent call last)",
      "\u001b[1;32mc:\\arc-piano-hand\\Code\\fall2022\\SheetMusicRecognition\\dataGenerator.ipynb Cell 2\u001b[0m in \u001b[0;36m<cell line: 1>\u001b[1;34m()\u001b[0m\n\u001b[1;32m----> <a href='vscode-notebook-cell:/c%3A/arc-piano-hand/Code/fall2022/SheetMusicRecognition/dataGenerator.ipynb#W1sZmlsZQ%3D%3D?line=0'>1</a>\u001b[0m f \u001b[39m=\u001b[39m m21\u001b[39m.\u001b[39;49mnote\u001b[39m.\u001b[39;49mNote(\u001b[39m'\u001b[39;49m\u001b[39mF5 E5\u001b[39;49m\u001b[39m'\u001b[39;49m)\n\u001b[0;32m      <a href='vscode-notebook-cell:/c%3A/arc-piano-hand/Code/fall2022/SheetMusicRecognition/dataGenerator.ipynb#W1sZmlsZQ%3D%3D?line=1'>2</a>\u001b[0m f\u001b[39m.\u001b[39mshow()\n",
      "File \u001b[1;32m~\\AppData\\Local\\Packages\\PythonSoftwareFoundation.Python.3.10_qbz5n2kfra8p0\\LocalCache\\local-packages\\Python310\\site-packages\\music21\\note.py:1364\u001b[0m, in \u001b[0;36mNote.__init__\u001b[1;34m(self, pitchName, **keywords)\u001b[0m\n\u001b[0;32m   1362\u001b[0m         \u001b[39mself\u001b[39m\u001b[39m.\u001b[39mpitch \u001b[39m=\u001b[39m pitchName\n\u001b[0;32m   1363\u001b[0m     \u001b[39melse\u001b[39;00m:  \u001b[39m# assume first argument is pitch\u001b[39;00m\n\u001b[1;32m-> 1364\u001b[0m         \u001b[39mself\u001b[39m\u001b[39m.\u001b[39mpitch \u001b[39m=\u001b[39m pitch\u001b[39m.\u001b[39mPitch(pitchName, \u001b[39m*\u001b[39m\u001b[39m*\u001b[39mkeywords)\n\u001b[0;32m   1365\u001b[0m \u001b[39melse\u001b[39;00m:  \u001b[39m# supply a default pitch\u001b[39;00m\n\u001b[0;32m   1366\u001b[0m     name \u001b[39m=\u001b[39m \u001b[39m'\u001b[39m\u001b[39mC4\u001b[39m\u001b[39m'\u001b[39m\n",
      "File \u001b[1;32m~\\AppData\\Local\\Packages\\PythonSoftwareFoundation.Python.3.10_qbz5n2kfra8p0\\LocalCache\\local-packages\\Python310\\site-packages\\music21\\pitch.py:1796\u001b[0m, in \u001b[0;36mPitch.__init__\u001b[1;34m(self, name, **keywords)\u001b[0m\n\u001b[0;32m   1794\u001b[0m \u001b[39mif\u001b[39;00m name \u001b[39mis\u001b[39;00m \u001b[39mnot\u001b[39;00m \u001b[39mNone\u001b[39;00m:\n\u001b[0;32m   1795\u001b[0m     \u001b[39mif\u001b[39;00m \u001b[39misinstance\u001b[39m(name, \u001b[39mstr\u001b[39m):\n\u001b[1;32m-> 1796\u001b[0m         \u001b[39mself\u001b[39m\u001b[39m.\u001b[39mname \u001b[39m=\u001b[39m name  \u001b[39m# set based on string\u001b[39;00m\n\u001b[0;32m   1797\u001b[0m     \u001b[39melse\u001b[39;00m:  \u001b[39m# is a number\u001b[39;00m\n\u001b[0;32m   1798\u001b[0m         \u001b[39mif\u001b[39;00m name \u001b[39m<\u001b[39m \u001b[39m12\u001b[39m:  \u001b[39m# is a pitchClass\u001b[39;00m\n",
      "File \u001b[1;32m~\\AppData\\Local\\Packages\\PythonSoftwareFoundation.Python.3.10_qbz5n2kfra8p0\\LocalCache\\local-packages\\Python310\\site-packages\\music21\\pitch.py:2624\u001b[0m, in \u001b[0;36mPitch.name\u001b[1;34m(self, usrStr)\u001b[0m\n\u001b[0;32m   2622\u001b[0m \u001b[39melif\u001b[39;00m \u001b[39mlen\u001b[39m(usrStr) \u001b[39m>\u001b[39m \u001b[39m1\u001b[39m:\n\u001b[0;32m   2623\u001b[0m     \u001b[39mself\u001b[39m\u001b[39m.\u001b[39mstep \u001b[39m=\u001b[39m usrStr[\u001b[39m0\u001b[39m]\n\u001b[1;32m-> 2624\u001b[0m     \u001b[39mself\u001b[39m\u001b[39m.\u001b[39maccidental \u001b[39m=\u001b[39m Accidental(usrStr[\u001b[39m1\u001b[39;49m:])\n\u001b[0;32m   2625\u001b[0m \u001b[39melse\u001b[39;00m:\n\u001b[0;32m   2626\u001b[0m     \u001b[39mraise\u001b[39;00m PitchException(\u001b[39mf\u001b[39m\u001b[39m'\u001b[39m\u001b[39mCannot make a name out of \u001b[39m\u001b[39m{\u001b[39;00musrStr\u001b[39m!r}\u001b[39;00m\u001b[39m'\u001b[39m)\n",
      "File \u001b[1;32m~\\AppData\\Local\\Packages\\PythonSoftwareFoundation.Python.3.10_qbz5n2kfra8p0\\LocalCache\\local-packages\\Python310\\site-packages\\music21\\pitch.py:872\u001b[0m, in \u001b[0;36mAccidental.__init__\u001b[1;34m(self, specifier)\u001b[0m\n\u001b[0;32m    870\u001b[0m \u001b[39mself\u001b[39m\u001b[39m.\u001b[39m_alter \u001b[39m=\u001b[39m \u001b[39m0.0\u001b[39m     \u001b[39m# semitones to alter step\u001b[39;00m\n\u001b[0;32m    871\u001b[0m \u001b[39m# potentially can be a fraction... but not exponent...\u001b[39;00m\n\u001b[1;32m--> 872\u001b[0m \u001b[39mself\u001b[39;49m\u001b[39m.\u001b[39;49mset(specifier)\n",
      "File \u001b[1;32m~\\AppData\\Local\\Packages\\PythonSoftwareFoundation.Python.3.10_qbz5n2kfra8p0\\LocalCache\\local-packages\\Python310\\site-packages\\music21\\pitch.py:1136\u001b[0m, in \u001b[0;36mAccidental.set\u001b[1;34m(self, name, allowNonStandardValue)\u001b[0m\n\u001b[0;32m   1134\u001b[0m \u001b[39melse\u001b[39;00m:\n\u001b[0;32m   1135\u001b[0m     \u001b[39mif\u001b[39;00m \u001b[39mnot\u001b[39;00m allowNonStandardValue:\n\u001b[1;32m-> 1136\u001b[0m         \u001b[39mraise\u001b[39;00m AccidentalException(\u001b[39mf\u001b[39m\u001b[39m'\u001b[39m\u001b[39m{\u001b[39;00mname\u001b[39m}\u001b[39;00m\u001b[39m is not a supported accidental type\u001b[39m\u001b[39m'\u001b[39m)\n\u001b[0;32m   1138\u001b[0m     \u001b[39mif\u001b[39;00m \u001b[39misinstance\u001b[39m(name, \u001b[39mstr\u001b[39m):\n\u001b[0;32m   1139\u001b[0m         \u001b[39mself\u001b[39m\u001b[39m.\u001b[39m_name \u001b[39m=\u001b[39m name\n",
      "\u001b[1;31mAccidentalException\u001b[0m:  e is not a supported accidental type"
     ]
    }
   ],
   "source": [
    "f = m21.note.Note('F5 E5')\n",
    "f.show()"
   ]
  },
  {
   "cell_type": "code",
   "execution_count": 14,
   "metadata": {},
   "outputs": [],
   "source": [
    "from msilib.schema import Directory\n",
    "\n",
    "directory = 'C:/Users/manas/AppData/Local/Temp/music21'\n",
    "files_in_directory = os.listdir(directory)\n",
    "filtered_files = [file for file in files_in_directory]\n",
    "for file in filtered_files:\n",
    "\tpath_to_file = os.path.join(directory, file)\n",
    "\tos.remove(path_to_file)\n",
    "\n",
    "shutil.rmtree('./pdf files/')\n",
    "\n",
    "f.write('musicxml.pdf')\n",
    "shutil.copytree('C:/Users/manas/AppData/Local/Temp/music21', 'C:/arc-piano-hand/Code/fall2022/SheetMusicRecognition/pdf files')\n",
    "directory = './pdf files'\n",
    "files_in_directory = os.listdir(directory)\n",
    "filtered_files = [file for file in files_in_directory if file.endswith(\".musicxml\")]\n",
    "for file in filtered_files:\n",
    "\tpath_to_file = os.path.join(directory, file)\n",
    "\tos.remove(path_to_file)"
   ]
  },
  {
   "cell_type": "code",
   "execution_count": 3,
   "metadata": {},
   "outputs": [
    {
     "ename": "AttributeError",
     "evalue": "'Note' object has no attribute 'startswith'",
     "output_type": "error",
     "traceback": [
      "\u001b[1;31m---------------------------------------------------------------------------\u001b[0m",
      "\u001b[1;31mAttributeError\u001b[0m                            Traceback (most recent call last)",
      "\u001b[1;32mc:\\arc-piano-hand\\Code\\fall2022\\SheetMusicRecognition\\dataGenerator.ipynb Cell 3\u001b[0m in \u001b[0;36m<cell line: 1>\u001b[1;34m()\u001b[0m\n\u001b[1;32m----> <a href='vscode-notebook-cell:/c%3A/arc-piano-hand/Code/fall2022/SheetMusicRecognition/dataGenerator.ipynb#W2sZmlsZQ%3D%3D?line=0'>1</a>\u001b[0m s \u001b[39m=\u001b[39m m21\u001b[39m.\u001b[39;49mconverter\u001b[39m.\u001b[39;49mparse(f)\n\u001b[0;32m      <a href='vscode-notebook-cell:/c%3A/arc-piano-hand/Code/fall2022/SheetMusicRecognition/dataGenerator.ipynb#W2sZmlsZQ%3D%3D?line=1'>2</a>\u001b[0m s\u001b[39m.\u001b[39mwrite(\u001b[39m'\u001b[39m\u001b[39mstart.png\u001b[39m\u001b[39m'\u001b[39m)\n",
      "File \u001b[1;32m~\\AppData\\Local\\Packages\\PythonSoftwareFoundation.Python.3.10_qbz5n2kfra8p0\\LocalCache\\local-packages\\Python310\\site-packages\\music21\\converter\\__init__.py:1164\u001b[0m, in \u001b[0;36mparse\u001b[1;34m(value, *args, **keywords)\u001b[0m\n\u001b[0;32m   1162\u001b[0m     \u001b[39mreturn\u001b[39;00m parseData(value, number\u001b[39m=\u001b[39mnumber, \u001b[39m*\u001b[39m\u001b[39m*\u001b[39mkeywords)\n\u001b[0;32m   1163\u001b[0m \u001b[39m# a midi string, must come before os.path.exists test\u001b[39;00m\n\u001b[1;32m-> 1164\u001b[0m \u001b[39melif\u001b[39;00m \u001b[39mnot\u001b[39;00m \u001b[39misinstance\u001b[39m(value, \u001b[39mbytes\u001b[39m) \u001b[39mand\u001b[39;00m valueStr\u001b[39m.\u001b[39;49mstartswith(\u001b[39m'\u001b[39m\u001b[39mMThd\u001b[39m\u001b[39m'\u001b[39m):\n\u001b[0;32m   1165\u001b[0m     \u001b[39mreturn\u001b[39;00m parseData(value, number\u001b[39m=\u001b[39mnumber, \u001b[39mformat\u001b[39m\u001b[39m=\u001b[39mm21Format, \u001b[39m*\u001b[39m\u001b[39m*\u001b[39mkeywords)\n\u001b[0;32m   1166\u001b[0m \u001b[39melif\u001b[39;00m (\u001b[39mnot\u001b[39;00m \u001b[39misinstance\u001b[39m(value, \u001b[39mbytes\u001b[39m)\n\u001b[0;32m   1167\u001b[0m       \u001b[39mand\u001b[39;00m _osCanLoad(valueStr)):\n",
      "\u001b[1;31mAttributeError\u001b[0m: 'Note' object has no attribute 'startswith'"
     ]
    }
   ],
   "source": [
    "s = m21.converter.parse(f)\n",
    "s.write('start.png')"
   ]
  }
 ],
 "metadata": {
  "kernelspec": {
   "display_name": "Python 3.10.7 64-bit (microsoft store)",
   "language": "python",
   "name": "python3"
  },
  "language_info": {
   "codemirror_mode": {
    "name": "ipython",
    "version": 3
   },
   "file_extension": ".py",
   "mimetype": "text/x-python",
   "name": "python",
   "nbconvert_exporter": "python",
   "pygments_lexer": "ipython3",
   "version": "3.10.7"
  },
  "orig_nbformat": 4,
  "vscode": {
   "interpreter": {
    "hash": "e2cfad8c37ce674b1db6f59ebffbc7ae4657b550792dbe2687621f32eddac30f"
   }
  }
 },
 "nbformat": 4,
 "nbformat_minor": 2
}
