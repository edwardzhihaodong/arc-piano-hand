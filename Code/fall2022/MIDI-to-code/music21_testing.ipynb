{
 "cells": [
  {
   "cell_type": "code",
   "execution_count": 23,
   "metadata": {},
   "outputs": [],
   "source": [
    "from music21 import *\n",
    "import mido as m"
   ]
  },
  {
   "cell_type": "code",
   "execution_count": 24,
   "metadata": {},
   "outputs": [
    {
     "data": {
      "text/html": [
       "\n",
       "                <div id='midiPlayerDiv202'></div>\n",
       "                <link rel=\"stylesheet\" href=\"//cuthbertLab.github.io/music21j/css/m21.css\"\n",
       "                    type=\"text/css\" />\n",
       "                \n",
       "                <script>\n",
       "                require.config({\n",
       "                    paths: {'music21': '//cuthbertLab.github.io/music21j/src/music21'}\n",
       "                });\n",
       "                require(['music21'], function() {\n",
       "                               mp = new music21.miditools.MidiPlayer();\n",
       "                               mp.addPlayer('#midiPlayerDiv202');\n",
       "                               mp.base64Load('data:audio/midi;base64,TVRoZAAAAAYAAQACBABNVHJrAAAAFAD/UQMHoSAA/1gEBAIYCIgA/y8ATVRyawAAABcA/wMAAOAAQIgAkE1aiACATQCIAP8vAA==');\n",
       "                        });\n",
       "                </script>"
      ],
      "text/plain": [
       "<IPython.core.display.HTML object>"
      ]
     },
     "metadata": {},
     "output_type": "display_data"
    }
   ],
   "source": [
    "f = note.Note(\"F5\")\n",
    "f.show(\"midi\")"
   ]
  },
  {
   "cell_type": "code",
   "execution_count": 25,
   "metadata": {},
   "outputs": [
    {
     "data": {
      "text/html": [
       "\n",
       "                <div id='midiPlayerDiv236'></div>\n",
       "                <link rel=\"stylesheet\" href=\"//cuthbertLab.github.io/music21j/css/m21.css\"\n",
       "                    type=\"text/css\" />\n",
       "                \n",
       "                <script>\n",
       "                require.config({\n",
       "                    paths: {'music21': '//cuthbertLab.github.io/music21j/src/music21'}\n",
       "                });\n",
       "                require(['music21'], function() {\n",
       "                               mp = new music21.miditools.MidiPlayer();\n",
       "                               mp.addPlayer('#midiPlayerDiv236');\n",
       "                               mp.base64Load('data:audio/midi;base64,TVRoZAAAAAYAAQACBABNVHJrAAAAFAD/UQMHoSAA/1gEBAIYCIgA/y8ATVRyawAAADsA/wMAAOAAQIgAkDxahACAPAAAkD5ahACAPgAAkEBahACAQAAAkEFahACAQQAAkENakACAQwCIAP8vAA==');\n",
       "                        });\n",
       "                </script>"
      ],
      "text/plain": [
       "<IPython.core.display.HTML object>"
      ]
     },
     "metadata": {},
     "output_type": "display_data"
    },
    {
     "data": {
      "image/png": "[encoded data removed]",
      "text/plain": [
       "<IPython.core.display.Image object>"
      ]
     },
     "metadata": {
      "image/png": {
       "height": 49,
       "width": 307
      }
     },
     "output_type": "display_data"
    },
    {
     "data": {
      "text/plain": [
       "'test.mid'"
      ]
     },
     "execution_count": 25,
     "metadata": {},
     "output_type": "execute_result"
    }
   ],
   "source": [
    "stream1 = stream.Stream()\n",
    "stream1.append(note.Note(\"C4\", quarterLength=0.5))\n",
    "stream1.append(note.Note(\"D4\", quarterLength=0.5))\n",
    "stream1.append(note.Note(\"E4\", quarterLength=0.5))\n",
    "stream1.append(note.Note(\"F4\", quarterLength=0.5))\n",
    "stream1.append(note.Note(\"G4\", quarterLength=2))\n",
    "stream1.show('midi')\n",
    "stream1.show()\n",
    "stream1.write('midi', fp='test.mid')"
   ]
  },
  {
   "cell_type": "code",
   "execution_count": 26,
   "metadata": {},
   "outputs": [
    {
     "name": "stdout",
     "output_type": "stream",
     "text": [
      "Track 0: \n",
      "MetaMessage('set_tempo', tempo=500000, time=0)\n",
      "MetaMessage('time_signature', numerator=4, denominator=4, clocks_per_click=24, notated_32nd_notes_per_beat=8, time=0)\n",
      "MetaMessage('end_of_track', time=1024)\n",
      "Track 1: \n",
      "MetaMessage('track_name', name='', time=0)\n",
      "pitchwheel channel=0 pitch=0 time=0\n",
      "note_on channel=0 note=60 velocity=90 time=0\n",
      "note_off channel=0 note=60 velocity=0 time=512\n",
      "note_on channel=0 note=62 velocity=90 time=0\n",
      "note_off channel=0 note=62 velocity=0 time=512\n",
      "note_on channel=0 note=64 velocity=90 time=0\n",
      "note_off channel=0 note=64 velocity=0 time=512\n",
      "note_on channel=0 note=65 velocity=90 time=0\n",
      "note_off channel=0 note=65 velocity=0 time=512\n",
      "note_on channel=0 note=67 velocity=90 time=0\n",
      "note_off channel=0 note=67 velocity=0 time=2048\n",
      "MetaMessage('end_of_track', time=1024)\n"
     ]
    }
   ],
   "source": [
    "mid = m.MidiFile('test.mid')\n",
    "for i, track in enumerate(mid.tracks):\n",
    "    print('Track {}: {}'.format(i, track.name))\n",
    "    for msg in track:\n",
    "        print(msg)\n"
   ]
  },
  {
   "cell_type": "code",
   "execution_count": 27,
   "metadata": {},
   "outputs": [
    {
     "data": {
      "text/plain": [
       "['USB MIDI Interface', 'USB MIDI Interface']"
      ]
     },
     "execution_count": 27,
     "metadata": {},
     "output_type": "execute_result"
    }
   ],
   "source": [
    "m.get_input_names()"
   ]
  },
  {
   "cell_type": "code",
   "execution_count": 28,
   "metadata": {},
   "outputs": [],
   "source": [
    "inport = m.open_input(\"USB MIDI Interface\")\n",
    "outport = m.open_output(\"USB MIDI Interface\")"
   ]
  },
  {
   "cell_type": "code",
   "execution_count": 44,
   "metadata": {},
   "outputs": [
    {
     "name": "stdout",
     "output_type": "stream",
     "text": [
      "Track 0: \n",
      "MetaMessage('set_tempo', tempo=500000, time=0)\n",
      "MetaMessage('time_signature', numerator=4, denominator=4, clocks_per_click=24, notated_32nd_notes_per_beat=8, time=0)\n",
      "MetaMessage('end_of_track', time=1024)\n",
      "Track 1: \n",
      "MetaMessage('track_name', name='', time=0)\n",
      "pitchwheel channel=0 pitch=0 time=0\n",
      "note_on channel=0 note=60 velocity=90 time=0\n",
      "note_off channel=0 note=60 velocity=0 time=512\n",
      "note_on channel=0 note=62 velocity=90 time=0\n",
      "note_off channel=0 note=62 velocity=0 time=512\n",
      "note_on channel=0 note=64 velocity=90 time=0\n",
      "note_off channel=0 note=64 velocity=0 time=512\n",
      "note_on channel=0 note=65 velocity=90 time=0\n",
      "note_off channel=0 note=65 velocity=0 time=512\n",
      "note_on channel=0 note=67 velocity=90 time=0\n",
      "note_off channel=0 note=67 velocity=0 time=2048\n",
      "MetaMessage('end_of_track', time=1024)\n"
     ]
    }
   ],
   "source": [
    "with m.open_output('USB MIDI Interface') as outport:\n",
    "    mid = m.MidiFile('test.mid')\n",
    "    for i, track in enumerate(mid.tracks):\n",
    "        print('Track {}: {}'.format(i, track.name))\n",
    "        for msg in track:\n",
    "            # if str(msg)[0:4] == \"Meta\":\n",
    "            #     continue\n",
    "            # if (msg.type == 'note_on') or (msg.type == 'note_off'):\n",
    "            # outport.send(m.Message(msg.type, note = msg.note, velocity = msg.velocity, time = msg.time))\n",
    "            # print(msg.type, msg)\n",
    "            \n",
    "            if msg.type in ['note_on', 'note_off']:\n",
    "                outport.send(m.Message(msg.type, note = msg.note, velocity = msg.velocity, time = msg.time))\n",
    "            # elif msg.type == 'set_tempo':\n",
    "            #     outport.send(m.Message(msg.type, tempo = msg.tempo, time = msg.time))\n",
    "            # elif msg.type == 'time_signature':\n",
    "            #     outport.send(m.Message(msg.type, numerator = msg.numerator, denominator = msg.denominator, time = msg.time))\n",
    "            # elif msg.type == 'key_signature':\n",
    "            #     outport.send(m.Message(msg.type, key = msg.key, time = msg.time))\n",
    "            # elif msg.type == 'end_of_track':\n",
    "            #     outport.send(m.Message(msg.type, time = msg.time))\n",
    "            # elif msg.type == 'track_name':\n",
    "            #     outport.send(m.Message(msg.type, name = msg.name, time = msg.time))\n",
    "            # elif msg.type == 'pitch_wheel':\n",
    "            #     outport.send(m.Message(msg.type, pitch = msg.pitch, time = msg.time))\n",
    "                \n",
    "            \n",
    "            print(msg)"
   ]
  },
  {
   "cell_type": "code",
   "execution_count": null,
   "metadata": {},
   "outputs": [],
   "source": [
    "# Tim's box\n",
    "with m.open_output('USB MIDI Interface') as outport:\n",
    "    mid = m.MidiFile('test.mid')\n",
    "    for msg in MidiFile('test.mid').play():\n",
    "        outport.send(msg)"
   ]
  },
  {
   "cell_type": "code",
   "execution_count": null,
   "metadata": {},
   "outputs": [],
   "source": []
  }
 ],
 "metadata": {
  "kernelspec": {
   "display_name": "Python 3.10.6 ('mus21')",
   "language": "python",
   "name": "python3"
  },
  "language_info": {
   "codemirror_mode": {
    "name": "ipython",
    "version": 3
   },
   "file_extension": ".py",
   "mimetype": "text/x-python",
   "name": "python",
   "nbconvert_exporter": "python",
   "pygments_lexer": "ipython3",
   "version": "3.10.6"
  },
  "orig_nbformat": 4,
  "vscode": {
   "interpreter": {
    "hash": "41be31f37276e5eca6b0b3f4ac3bbda9b0efcda8b747b4d5d9f6c7cab73fadc6"
   }
  }
 },
 "nbformat": 4,
 "nbformat_minor": 2
}
