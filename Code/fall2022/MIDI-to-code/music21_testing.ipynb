{
 "cells": [
  {
   "cell_type": "code",
   "execution_count": 16,
   "metadata": {},
   "outputs": [],
   "source": [
    "from music21 import *\n",
    "import mido as m"
   ]
  },
  {
   "cell_type": "code",
   "execution_count": 5,
   "metadata": {},
   "outputs": [
    {
     "data": {
      "text/html": [
       "\n",
       "                <div id='midiPlayerDiv203'></div>\n",
       "                <link rel=\"stylesheet\" href=\"//cuthbertLab.github.io/music21j/css/m21.css\"\n",
       "                    type=\"text/css\" />\n",
       "                \n",
       "                <script>\n",
       "                require.config({\n",
       "                    paths: {'music21': '//cuthbertLab.github.io/music21j/src/music21'}\n",
       "                });\n",
       "                require(['music21'], function() {\n",
       "                               mp = new music21.miditools.MidiPlayer();\n",
       "                               mp.addPlayer('#midiPlayerDiv203');\n",
       "                               mp.base64Load('data:audio/midi;base64,TVRoZAAAAAYAAQACBABNVHJrAAAAFAD/UQMHoSAA/1gEBAIYCIgA/y8ATVRyawAAABcA/wMAAOAAQIgAkC9aiACALwCIAP8vAA==');\n",
       "                        });\n",
       "                </script>"
      ],
      "text/plain": [
       "<IPython.core.display.HTML object>"
      ]
     },
     "metadata": {},
     "output_type": "display_data"
    }
   ],
   "source": [
    "f = note.Note(\"CbB3\")\n",
    "f.show(\"midi\")"
   ]
  },
  {
   "cell_type": "code",
   "execution_count": null,
   "metadata": {},
   "outputs": [],
   "source": []
  },
  {
   "cell_type": "code",
   "execution_count": 17,
   "metadata": {},
   "outputs": [
    {
     "ename": "AccidentalException",
     "evalue": "bb is not a supported accidental type",
     "output_type": "error",
     "traceback": [
      "\u001b[0;31m---------------------------------------------------------------------------\u001b[0m",
      "\u001b[0;31mAccidentalException\u001b[0m                       Traceback (most recent call last)",
      "Cell \u001b[0;32mIn [17], line 2\u001b[0m\n\u001b[1;32m      1\u001b[0m stream1 \u001b[38;5;241m=\u001b[39m stream\u001b[38;5;241m.\u001b[39mStream()\n\u001b[0;32m----> 2\u001b[0m stream1\u001b[38;5;241m.\u001b[39mappend(\u001b[43mnote\u001b[49m\u001b[38;5;241;43m.\u001b[39;49m\u001b[43mNote\u001b[49m\u001b[43m(\u001b[49m\u001b[38;5;124;43m\"\u001b[39;49m\u001b[38;5;124;43mCbb3\u001b[39;49m\u001b[38;5;124;43m\"\u001b[39;49m\u001b[43m,\u001b[49m\u001b[43m \u001b[49m\u001b[43mquarterLength\u001b[49m\u001b[38;5;241;43m=\u001b[39;49m\u001b[38;5;241;43m0.5\u001b[39;49m\u001b[43m)\u001b[49m)\n\u001b[1;32m      3\u001b[0m stream1\u001b[38;5;241m.\u001b[39mappend(note\u001b[38;5;241m.\u001b[39mNote(\u001b[38;5;124m\"\u001b[39m\u001b[38;5;124mDb0\u001b[39m\u001b[38;5;124m\"\u001b[39m, quarterLength\u001b[38;5;241m=\u001b[39m\u001b[38;5;241m0.5\u001b[39m))\n\u001b[1;32m      4\u001b[0m stream1\u001b[38;5;241m.\u001b[39mappend(note\u001b[38;5;241m.\u001b[39mNote(\u001b[38;5;124m\"\u001b[39m\u001b[38;5;124mE0\u001b[39m\u001b[38;5;124m\"\u001b[39m, quarterLength\u001b[38;5;241m=\u001b[39m\u001b[38;5;241m0.5\u001b[39m))\n",
      "File \u001b[0;32m~/miniforge3/envs/mus21/lib/python3.10/site-packages/music21/note.py:1364\u001b[0m, in \u001b[0;36mNote.__init__\u001b[0;34m(self, pitchName, **keywords)\u001b[0m\n\u001b[1;32m   1362\u001b[0m         \u001b[39mself\u001b[39m\u001b[39m.\u001b[39mpitch \u001b[39m=\u001b[39m pitchName\n\u001b[1;32m   1363\u001b[0m     \u001b[39melse\u001b[39;00m:  \u001b[39m# assume first argument is pitch\u001b[39;00m\n\u001b[0;32m-> 1364\u001b[0m         \u001b[39mself\u001b[39m\u001b[39m.\u001b[39mpitch \u001b[39m=\u001b[39m pitch\u001b[39m.\u001b[39;49mPitch(pitchName, \u001b[39m*\u001b[39;49m\u001b[39m*\u001b[39;49mkeywords)\n\u001b[1;32m   1365\u001b[0m \u001b[39melse\u001b[39;00m:  \u001b[39m# supply a default pitch\u001b[39;00m\n\u001b[1;32m   1366\u001b[0m     name \u001b[39m=\u001b[39m \u001b[39m'\u001b[39m\u001b[39mC4\u001b[39m\u001b[39m'\u001b[39m\n",
      "File \u001b[0;32m~/miniforge3/envs/mus21/lib/python3.10/site-packages/music21/pitch.py:1796\u001b[0m, in \u001b[0;36mPitch.__init__\u001b[0;34m(self, name, **keywords)\u001b[0m\n\u001b[1;32m   1794\u001b[0m \u001b[39mif\u001b[39;00m name \u001b[39mis\u001b[39;00m \u001b[39mnot\u001b[39;00m \u001b[39mNone\u001b[39;00m:\n\u001b[1;32m   1795\u001b[0m     \u001b[39mif\u001b[39;00m \u001b[39misinstance\u001b[39m(name, \u001b[39mstr\u001b[39m):\n\u001b[0;32m-> 1796\u001b[0m         \u001b[39mself\u001b[39;49m\u001b[39m.\u001b[39;49mname \u001b[39m=\u001b[39m name  \u001b[39m# set based on string\u001b[39;00m\n\u001b[1;32m   1797\u001b[0m     \u001b[39melse\u001b[39;00m:  \u001b[39m# is a number\u001b[39;00m\n\u001b[1;32m   1798\u001b[0m         \u001b[39mif\u001b[39;00m name \u001b[39m<\u001b[39m \u001b[39m12\u001b[39m:  \u001b[39m# is a pitchClass\u001b[39;00m\n",
      "File \u001b[0;32m~/miniforge3/envs/mus21/lib/python3.10/site-packages/music21/pitch.py:2624\u001b[0m, in \u001b[0;36mPitch.name\u001b[0;34m(self, usrStr)\u001b[0m\n\u001b[1;32m   2622\u001b[0m \u001b[39melif\u001b[39;00m \u001b[39mlen\u001b[39m(usrStr) \u001b[39m>\u001b[39m \u001b[39m1\u001b[39m:\n\u001b[1;32m   2623\u001b[0m     \u001b[39mself\u001b[39m\u001b[39m.\u001b[39mstep \u001b[39m=\u001b[39m usrStr[\u001b[39m0\u001b[39m]\n\u001b[0;32m-> 2624\u001b[0m     \u001b[39mself\u001b[39m\u001b[39m.\u001b[39maccidental \u001b[39m=\u001b[39m Accidental(usrStr[\u001b[39m1\u001b[39;49m:])\n\u001b[1;32m   2625\u001b[0m \u001b[39melse\u001b[39;00m:\n\u001b[1;32m   2626\u001b[0m     \u001b[39mraise\u001b[39;00m PitchException(\u001b[39mf\u001b[39m\u001b[39m'\u001b[39m\u001b[39mCannot make a name out of \u001b[39m\u001b[39m{\u001b[39;00musrStr\u001b[39m!r}\u001b[39;00m\u001b[39m'\u001b[39m)\n",
      "File \u001b[0;32m~/miniforge3/envs/mus21/lib/python3.10/site-packages/music21/pitch.py:872\u001b[0m, in \u001b[0;36mAccidental.__init__\u001b[0;34m(self, specifier)\u001b[0m\n\u001b[1;32m    870\u001b[0m \u001b[39mself\u001b[39m\u001b[39m.\u001b[39m_alter \u001b[39m=\u001b[39m \u001b[39m0.0\u001b[39m     \u001b[39m# semitones to alter step\u001b[39;00m\n\u001b[1;32m    871\u001b[0m \u001b[39m# potentially can be a fraction... but not exponent...\u001b[39;00m\n\u001b[0;32m--> 872\u001b[0m \u001b[39mself\u001b[39;49m\u001b[39m.\u001b[39;49mset(specifier)\n",
      "File \u001b[0;32m~/miniforge3/envs/mus21/lib/python3.10/site-packages/music21/pitch.py:1136\u001b[0m, in \u001b[0;36mAccidental.set\u001b[0;34m(self, name, allowNonStandardValue)\u001b[0m\n\u001b[1;32m   1134\u001b[0m \u001b[39melse\u001b[39;00m:\n\u001b[1;32m   1135\u001b[0m     \u001b[39mif\u001b[39;00m \u001b[39mnot\u001b[39;00m allowNonStandardValue:\n\u001b[0;32m-> 1136\u001b[0m         \u001b[39mraise\u001b[39;00m AccidentalException(\u001b[39mf\u001b[39m\u001b[39m'\u001b[39m\u001b[39m{\u001b[39;00mname\u001b[39m}\u001b[39;00m\u001b[39m is not a supported accidental type\u001b[39m\u001b[39m'\u001b[39m)\n\u001b[1;32m   1138\u001b[0m     \u001b[39mif\u001b[39;00m \u001b[39misinstance\u001b[39m(name, \u001b[39mstr\u001b[39m):\n\u001b[1;32m   1139\u001b[0m         \u001b[39mself\u001b[39m\u001b[39m.\u001b[39m_name \u001b[39m=\u001b[39m name\n",
      "\u001b[0;31mAccidentalException\u001b[0m: bb is not a supported accidental type"
     ]
    }
   ],
   "source": [
    "stream1 = stream.Stream()\n",
    "stream1.append(note.Note(\"Cb3\", quarterLength=0.5))\n",
    "stream1.append(note.Note(\"Db0\", quarterLength=0.5))\n",
    "stream1.append(note.Note(\"E0\", quarterLength=0.5))\n",
    "stream1.append(note.Note(\"F0\", quarterLength=0.5))\n",
    "stream1.append(note.Note(\"G0\", quarterLength=0.5))\n",
    "stream1.show('midi')\n",
    "stream1.show()\n",
    "stream1.write('midi', fp='test.mid')"
   ]
  },
  {
   "cell_type": "code",
   "execution_count": 15,
   "metadata": {},
   "outputs": [
    {
     "name": "stdout",
     "output_type": "stream",
     "text": [
      "Track 0: \n",
      "MetaMessage('set_tempo', tempo=500000, time=0)\n",
      "MetaMessage('time_signature', numerator=4, denominator=4, clocks_per_click=24, notated_32nd_notes_per_beat=8, time=0)\n",
      "MetaMessage('end_of_track', time=1024)\n",
      "Track 1: \n",
      "MetaMessage('track_name', name='', time=0)\n",
      "pitchwheel channel=0 pitch=0 time=0\n",
      "note_on channel=0 note=23 velocity=90 time=0\n",
      "note_off channel=0 note=23 velocity=0 time=512\n",
      "note_on channel=0 note=13 velocity=90 time=0\n",
      "note_off channel=0 note=13 velocity=0 time=512\n",
      "note_on channel=0 note=16 velocity=90 time=0\n",
      "note_off channel=0 note=16 velocity=0 time=512\n",
      "note_on channel=0 note=17 velocity=90 time=0\n",
      "note_off channel=0 note=17 velocity=0 time=512\n",
      "note_on channel=0 note=19 velocity=90 time=0\n",
      "note_off channel=0 note=19 velocity=0 time=512\n",
      "MetaMessage('end_of_track', time=1024)\n"
     ]
    }
   ],
   "source": [
    "mid = m.MidiFile('test.mid')\n",
    "for i, track in enumerate(mid.tracks):\n",
    "    print('Track {}: {}'.format(i, track.name))\n",
    "    for msg in track:\n",
    "        print(msg)\n"
   ]
  },
  {
   "cell_type": "code",
   "execution_count": 6,
   "metadata": {},
   "outputs": [
    {
     "data": {
      "text/plain": [
       "['USB MIDI Interface', 'USB MIDI Interface']"
      ]
     },
     "execution_count": 6,
     "metadata": {},
     "output_type": "execute_result"
    }
   ],
   "source": [
    "m.get_input_names()"
   ]
  },
  {
   "cell_type": "code",
   "execution_count": 7,
   "metadata": {},
   "outputs": [],
   "source": [
    "inport = m.open_input(\"USB MIDI Interface\")\n",
    "outport = m.open_output(\"USB MIDI Interface\")"
   ]
  },
  {
   "cell_type": "code",
   "execution_count": 8,
   "metadata": {},
   "outputs": [
    {
     "name": "stdout",
     "output_type": "stream",
     "text": [
      "pitchwheel channel=0 pitch=0 time=0\n",
      "note_on channel=0 note=60 velocity=90 time=0\n",
      "note_off channel=0 note=60 velocity=0 time=0.25\n",
      "note_on channel=0 note=62 velocity=90 time=0\n",
      "note_off channel=0 note=62 velocity=0 time=0.25\n",
      "note_on channel=0 note=64 velocity=90 time=0\n",
      "note_off channel=0 note=64 velocity=0 time=0.25\n",
      "note_on channel=0 note=65 velocity=90 time=0\n",
      "note_off channel=0 note=65 velocity=0 time=0.25\n",
      "note_on channel=0 note=67 velocity=90 time=0\n",
      "note_off channel=0 note=67 velocity=0 time=1.0\n"
     ]
    }
   ],
   "source": [
    "# Tim's box\n",
    "with m.open_output('USB MIDI Interface') as outport:\n",
    "    mid = m.MidiFile('test.mid')\n",
    "    for msg in mid.play():\n",
    "        print(msg)\n",
    "        outport.send(msg)"
   ]
  },
  {
   "cell_type": "code",
   "execution_count": null,
   "metadata": {},
   "outputs": [],
   "source": []
  }
 ],
 "metadata": {
  "kernelspec": {
   "display_name": "Python 3.10.6 ('mus21')",
   "language": "python",
   "name": "python3"
  },
  "language_info": {
   "codemirror_mode": {
    "name": "ipython",
    "version": 3
   },
   "file_extension": ".py",
   "mimetype": "text/x-python",
   "name": "python",
   "nbconvert_exporter": "python",
   "pygments_lexer": "ipython3",
   "version": "3.10.6"
  },
  "orig_nbformat": 4,
  "vscode": {
   "interpreter": {
    "hash": "41be31f37276e5eca6b0b3f4ac3bbda9b0efcda8b747b4d5d9f6c7cab73fadc6"
   }
  }
 },
 "nbformat": 4,
 "nbformat_minor": 2
}
